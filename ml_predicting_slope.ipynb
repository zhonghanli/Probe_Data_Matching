{
 "cells": [
  {
   "cell_type": "code",
   "execution_count": 1,
   "metadata": {
    "collapsed": true
   },
   "outputs": [],
   "source": [
    "# Imports\n",
    "        \n",
    "import os\n",
    "import xgboost as xgb\n",
    "import numpy as np\n",
    "import matplotlib.pyplot as plt\n",
    "import pandas as pd\n",
    "\n",
    "%matplotlib inline\n",
    "\n",
    "from datetime import datetime\n",
    "\n",
    "\n",
    "# Constants\n",
    "DATA_DIR = \"probe_data_map_matching\"\n",
    "\n",
    "link_headers = [\"linkPVID\", \n",
    "                \"refNodeID\", \n",
    "                \"nrefNodeID\", \n",
    "                \"length\", \n",
    "                \"functionalClass\", \n",
    "                \"directionOfTravel\", \n",
    "                \"speedCategory\", \n",
    "                \"fromRefSpeedLimit\", \n",
    "                \"toRefSpeedLimit\", \n",
    "                \"fromRefNumLanes\", \n",
    "                \"toRefNumLanes\", \n",
    "                \"multiDigitized\", \n",
    "                \"urban\", \n",
    "                \"timeZone\", \n",
    "                \"shapeInfo\", \n",
    "                \"curvatureInfo\", \n",
    "                \"slopeInfo\"]"
   ]
  },
  {
   "cell_type": "code",
   "execution_count": 2,
   "metadata": {},
   "outputs": [
    {
     "name": "stdout",
     "output_type": "stream",
     "text": [
      "(200089, 16)\n"
     ]
    },
    {
     "data": {
      "text/html": [
       "<div>\n",
       "<style>\n",
       "    .dataframe thead tr:only-child th {\n",
       "        text-align: right;\n",
       "    }\n",
       "\n",
       "    .dataframe thead th {\n",
       "        text-align: left;\n",
       "    }\n",
       "\n",
       "    .dataframe tbody tr th {\n",
       "        vertical-align: top;\n",
       "    }\n",
       "</style>\n",
       "<table border=\"1\" class=\"dataframe\">\n",
       "  <thead>\n",
       "    <tr style=\"text-align: right;\">\n",
       "      <th></th>\n",
       "      <th>linkPVID</th>\n",
       "      <th>refNodeID</th>\n",
       "      <th>nrefNodeID</th>\n",
       "      <th>length</th>\n",
       "      <th>functionalClass</th>\n",
       "      <th>directionOfTravel</th>\n",
       "      <th>speedCategory</th>\n",
       "      <th>fromRefSpeedLimit</th>\n",
       "      <th>toRefSpeedLimit</th>\n",
       "      <th>fromRefNumLanes</th>\n",
       "      <th>toRefNumLanes</th>\n",
       "      <th>multiDigitized</th>\n",
       "      <th>urban</th>\n",
       "      <th>timeZone</th>\n",
       "      <th>shapeInfo</th>\n",
       "      <th>slopeInfo</th>\n",
       "    </tr>\n",
       "  </thead>\n",
       "  <tbody>\n",
       "    <tr>\n",
       "      <th>0</th>\n",
       "      <td>62007637</td>\n",
       "      <td>162844982</td>\n",
       "      <td>162809070</td>\n",
       "      <td>335.04</td>\n",
       "      <td>5</td>\n",
       "      <td>B</td>\n",
       "      <td>7</td>\n",
       "      <td>30</td>\n",
       "      <td>30</td>\n",
       "      <td>0</td>\n",
       "      <td>0</td>\n",
       "      <td>F</td>\n",
       "      <td>T</td>\n",
       "      <td>0.0</td>\n",
       "      <td>51.4965800/9.3862299/|51.4994700/9.3848799/</td>\n",
       "      <td>NaN</td>\n",
       "    </tr>\n",
       "    <tr>\n",
       "      <th>1</th>\n",
       "      <td>567329767</td>\n",
       "      <td>162844982</td>\n",
       "      <td>162981512</td>\n",
       "      <td>134.56</td>\n",
       "      <td>5</td>\n",
       "      <td>B</td>\n",
       "      <td>7</td>\n",
       "      <td>0</td>\n",
       "      <td>0</td>\n",
       "      <td>0</td>\n",
       "      <td>0</td>\n",
       "      <td>F</td>\n",
       "      <td>T</td>\n",
       "      <td>0.0</td>\n",
       "      <td>51.4965800/9.3862299/|51.4966899/9.3867100/|51...</td>\n",
       "      <td>NaN</td>\n",
       "    </tr>\n",
       "    <tr>\n",
       "      <th>2</th>\n",
       "      <td>62007648</td>\n",
       "      <td>162877732</td>\n",
       "      <td>162844982</td>\n",
       "      <td>97.01</td>\n",
       "      <td>5</td>\n",
       "      <td>B</td>\n",
       "      <td>7</td>\n",
       "      <td>30</td>\n",
       "      <td>30</td>\n",
       "      <td>0</td>\n",
       "      <td>0</td>\n",
       "      <td>F</td>\n",
       "      <td>T</td>\n",
       "      <td>0.0</td>\n",
       "      <td>51.4962899/9.3849100/|51.4965800/9.3862299/</td>\n",
       "      <td>NaN</td>\n",
       "    </tr>\n",
       "    <tr>\n",
       "      <th>3</th>\n",
       "      <td>78670326</td>\n",
       "      <td>162877732</td>\n",
       "      <td>163152693</td>\n",
       "      <td>314.84</td>\n",
       "      <td>5</td>\n",
       "      <td>B</td>\n",
       "      <td>7</td>\n",
       "      <td>30</td>\n",
       "      <td>30</td>\n",
       "      <td>0</td>\n",
       "      <td>0</td>\n",
       "      <td>F</td>\n",
       "      <td>T</td>\n",
       "      <td>0.0</td>\n",
       "      <td>51.4962899/9.3849100/|51.4990000/9.3836099/</td>\n",
       "      <td>NaN</td>\n",
       "    </tr>\n",
       "    <tr>\n",
       "      <th>4</th>\n",
       "      <td>51881672</td>\n",
       "      <td>174713859</td>\n",
       "      <td>174587951</td>\n",
       "      <td>110.17</td>\n",
       "      <td>3</td>\n",
       "      <td>B</td>\n",
       "      <td>6</td>\n",
       "      <td>50</td>\n",
       "      <td>50</td>\n",
       "      <td>2</td>\n",
       "      <td>2</td>\n",
       "      <td>F</td>\n",
       "      <td>T</td>\n",
       "      <td>0.0</td>\n",
       "      <td>53.0643099/8.7903400/45.79|53.0650299/8.791470...</td>\n",
       "      <td>0.00/-0.090|110.17/0.062</td>\n",
       "    </tr>\n",
       "  </tbody>\n",
       "</table>\n",
       "</div>"
      ],
      "text/plain": [
       "    linkPVID  refNodeID  nrefNodeID  length  functionalClass  \\\n",
       "0   62007637  162844982   162809070  335.04                5   \n",
       "1  567329767  162844982   162981512  134.56                5   \n",
       "2   62007648  162877732   162844982   97.01                5   \n",
       "3   78670326  162877732   163152693  314.84                5   \n",
       "4   51881672  174713859   174587951  110.17                3   \n",
       "\n",
       "  directionOfTravel  speedCategory  fromRefSpeedLimit  toRefSpeedLimit  \\\n",
       "0                 B              7                 30               30   \n",
       "1                 B              7                  0                0   \n",
       "2                 B              7                 30               30   \n",
       "3                 B              7                 30               30   \n",
       "4                 B              6                 50               50   \n",
       "\n",
       "   fromRefNumLanes  toRefNumLanes multiDigitized urban  timeZone  \\\n",
       "0                0              0              F     T       0.0   \n",
       "1                0              0              F     T       0.0   \n",
       "2                0              0              F     T       0.0   \n",
       "3                0              0              F     T       0.0   \n",
       "4                2              2              F     T       0.0   \n",
       "\n",
       "                                           shapeInfo                 slopeInfo  \n",
       "0        51.4965800/9.3862299/|51.4994700/9.3848799/                       NaN  \n",
       "1  51.4965800/9.3862299/|51.4966899/9.3867100/|51...                       NaN  \n",
       "2        51.4962899/9.3849100/|51.4965800/9.3862299/                       NaN  \n",
       "3        51.4962899/9.3849100/|51.4990000/9.3836099/                       NaN  \n",
       "4  53.0643099/8.7903400/45.79|53.0650299/8.791470...  0.00/-0.090|110.17/0.062  "
      ]
     },
     "execution_count": 2,
     "metadata": {},
     "output_type": "execute_result"
    }
   ],
   "source": [
    "# Read in the Link Data\n",
    "link_data = pd.read_csv(os.path.join(DATA_DIR, \"Partition6467LinkData.csv\"), header=None, names=link_headers)\n",
    "link_data.drop('curvatureInfo', axis=1, inplace=True)\n",
    "\n",
    "print(link_data.shape)\n",
    "\n",
    "link_data.head()"
   ]
  },
  {
   "cell_type": "code",
   "execution_count": 3,
   "metadata": {},
   "outputs": [
    {
     "data": {
      "text/plain": [
       "(53517, 16)"
      ]
     },
     "execution_count": 3,
     "metadata": {},
     "output_type": "execute_result"
    }
   ],
   "source": [
    "# how many have slope info?\n",
    "link_data.dropna().shape"
   ]
  },
  {
   "cell_type": "code",
   "execution_count": 4,
   "metadata": {
    "collapsed": true
   },
   "outputs": [],
   "source": [
    "# Actually get rid of the missings\n",
    "link_data.dropna(inplace=True)"
   ]
  },
  {
   "cell_type": "code",
   "execution_count": 5,
   "metadata": {
    "collapsed": true
   },
   "outputs": [],
   "source": [
    "# Read in the (Matched) Probe Data\n",
    "\n",
    "probe_data = pd.read_csv(os.path.join(DATA_DIR, \"matched_probes.csv\"))\n",
    "\n",
    "probe_data['dateTime'] = pd.to_datetime(probe_data['dateTime'], format='%m/%d/%Y %I:%M:%S %p')\n",
    "#print(probe_data.head)\n",
    "#probe_data['dateTime'] = pd.to_datetime(probe_data['dateTime'], format='%Y-%m-%d %H:%M:%S')\n",
    "probe_data.to_pickle(os.path.join(DATA_DIR, 'converted_probe_linked_data.pickle'))\n",
    "\n",
    "probe_data = pd.read_pickle(os.path.join(DATA_DIR, 'converted_probe_linked_data.pickle'))"
   ]
  },
  {
   "cell_type": "code",
   "execution_count": 6,
   "metadata": {},
   "outputs": [
    {
     "data": {
      "text/plain": [
       "(407, 12)"
      ]
     },
     "execution_count": 6,
     "metadata": {},
     "output_type": "execute_result"
    }
   ],
   "source": [
    "probe_data.shape"
   ]
  },
  {
   "cell_type": "code",
   "execution_count": 7,
   "metadata": {},
   "outputs": [
    {
     "name": "stdout",
     "output_type": "stream",
     "text": [
      "Roughly what do the Groups look like?\n",
      "51754646 Int64Index([118, 119, 120, 121, 122, 123, 254, 255, 256, 257, 258, 259, 390,\n",
      "            391, 392, 393, 394, 395],\n",
      "           dtype='int64')\n",
      "51790471 Int64Index([0, 135, 136, 271, 272], dtype='int64')\n",
      "51790473 Int64Index([1, 2, 3, 137, 138, 139, 273, 274, 275], dtype='int64')\n",
      "51924236 Int64Index([15, 16, 151, 152, 287, 288], dtype='int64')\n",
      "572222029 Int64Index([29, 165, 301], dtype='int64')\n",
      "67946254 Int64Index([ 83,  84,  85,  86,  87,  88,  89,  90,  91,  92,  93,  94,  95,\n",
      "             96,  97,  98,  99, 100, 101, 102, 103, 104, 105, 106, 107, 108,\n",
      "            109, 110, 219, 220, 221, 222, 223, 224, 225, 226, 227, 228, 229,\n",
      "            230, 231, 232, 233, 234, 235, 236, 237, 238, 239, 240, 241, 242,\n",
      "            243, 244, 245, 246, 355, 356, 357, 358, 359, 360, 361, 362, 363,\n",
      "            364, 365, 366, 367, 368, 369, 370, 371, 372, 373, 374, 375, 376,\n",
      "            377, 378, 379, 380, 381, 382],\n",
      "           dtype='int64')\n",
      "There are 24 Unique linkPVID's represented\n"
     ]
    }
   ],
   "source": [
    "# How many unique linkPVID's are contained in the matched probe data\n",
    "print(\"Roughly what do the Groups look like?\")\n",
    "itr = 0\n",
    "for i in probe_data.groupby('linkPVID').groups:\n",
    "    if itr <= 5:\n",
    "        print(i, probe_data.groupby('linkPVID').groups[i])\n",
    "        itr += 1\n",
    "\n",
    "print(\"There are {} Unique linkPVID's represented\".format(len(probe_data.groupby('linkPVID').groups)))"
   ]
  },
  {
   "cell_type": "markdown",
   "metadata": {},
   "source": [
    "So, 189621 Unique PVID's are covered. Given that there are roughly 200,000 links in the dataset, this level of coverage is actually quite good."
   ]
  },
  {
   "cell_type": "code",
   "execution_count": 8,
   "metadata": {
    "collapsed": true
   },
   "outputs": [],
   "source": [
    "joined_data = probe_data.join(link_data.set_index('linkPVID'), on='linkPVID', how='inner', lsuffix='l', rsuffix='r')\n"
   ]
  },
  {
   "cell_type": "code",
   "execution_count": 9,
   "metadata": {},
   "outputs": [
    {
     "data": {
      "text/html": [
       "<div>\n",
       "<style>\n",
       "    .dataframe thead tr:only-child th {\n",
       "        text-align: right;\n",
       "    }\n",
       "\n",
       "    .dataframe thead th {\n",
       "        text-align: left;\n",
       "    }\n",
       "\n",
       "    .dataframe tbody tr th {\n",
       "        vertical-align: top;\n",
       "    }\n",
       "</style>\n",
       "<table border=\"1\" class=\"dataframe\">\n",
       "  <thead>\n",
       "    <tr style=\"text-align: right;\">\n",
       "      <th></th>\n",
       "      <th>sampleID</th>\n",
       "      <th>dateTime</th>\n",
       "      <th>sourceCode</th>\n",
       "      <th>latitude</th>\n",
       "      <th>longitude</th>\n",
       "      <th>altitude</th>\n",
       "      <th>speed</th>\n",
       "      <th>heading</th>\n",
       "      <th>linkPVID</th>\n",
       "      <th>direction</th>\n",
       "      <th>...</th>\n",
       "      <th>speedCategory</th>\n",
       "      <th>fromRefSpeedLimit</th>\n",
       "      <th>toRefSpeedLimit</th>\n",
       "      <th>fromRefNumLanes</th>\n",
       "      <th>toRefNumLanes</th>\n",
       "      <th>multiDigitized</th>\n",
       "      <th>urban</th>\n",
       "      <th>timeZone</th>\n",
       "      <th>shapeInfo</th>\n",
       "      <th>slopeInfo</th>\n",
       "    </tr>\n",
       "  </thead>\n",
       "  <tbody>\n",
       "    <tr>\n",
       "      <th>0</th>\n",
       "      <td>21065</td>\n",
       "      <td>2009-06-26 11:48:20</td>\n",
       "      <td>13</td>\n",
       "      <td>51.369864</td>\n",
       "      <td>9.636753</td>\n",
       "      <td>438</td>\n",
       "      <td>36</td>\n",
       "      <td>57</td>\n",
       "      <td>51790471</td>\n",
       "      <td>T</td>\n",
       "      <td>...</td>\n",
       "      <td>4</td>\n",
       "      <td>999</td>\n",
       "      <td>999</td>\n",
       "      <td>1</td>\n",
       "      <td>1</td>\n",
       "      <td>F</td>\n",
       "      <td>F</td>\n",
       "      <td>0.0</td>\n",
       "      <td>51.3695899/9.6361500/431.59|51.3698300/9.63660...</td>\n",
       "      <td>0.00/-0.150|41.14/-0.966|62.96/-1.369|74.30/-1...</td>\n",
       "    </tr>\n",
       "    <tr>\n",
       "      <th>135</th>\n",
       "      <td>21065</td>\n",
       "      <td>2009-06-26 11:48:15</td>\n",
       "      <td>13</td>\n",
       "      <td>51.369613</td>\n",
       "      <td>9.636300</td>\n",
       "      <td>438</td>\n",
       "      <td>22</td>\n",
       "      <td>78</td>\n",
       "      <td>51790471</td>\n",
       "      <td>F</td>\n",
       "      <td>...</td>\n",
       "      <td>4</td>\n",
       "      <td>999</td>\n",
       "      <td>999</td>\n",
       "      <td>1</td>\n",
       "      <td>1</td>\n",
       "      <td>F</td>\n",
       "      <td>F</td>\n",
       "      <td>0.0</td>\n",
       "      <td>51.3695899/9.6361500/431.59|51.3698300/9.63660...</td>\n",
       "      <td>0.00/-0.150|41.14/-0.966|62.96/-1.369|74.30/-1...</td>\n",
       "    </tr>\n",
       "    <tr>\n",
       "      <th>136</th>\n",
       "      <td>21065</td>\n",
       "      <td>2009-06-26 11:48:20</td>\n",
       "      <td>13</td>\n",
       "      <td>51.369864</td>\n",
       "      <td>9.636753</td>\n",
       "      <td>438</td>\n",
       "      <td>36</td>\n",
       "      <td>57</td>\n",
       "      <td>51790471</td>\n",
       "      <td>T</td>\n",
       "      <td>...</td>\n",
       "      <td>4</td>\n",
       "      <td>999</td>\n",
       "      <td>999</td>\n",
       "      <td>1</td>\n",
       "      <td>1</td>\n",
       "      <td>F</td>\n",
       "      <td>F</td>\n",
       "      <td>0.0</td>\n",
       "      <td>51.3695899/9.6361500/431.59|51.3698300/9.63660...</td>\n",
       "      <td>0.00/-0.150|41.14/-0.966|62.96/-1.369|74.30/-1...</td>\n",
       "    </tr>\n",
       "    <tr>\n",
       "      <th>271</th>\n",
       "      <td>21065</td>\n",
       "      <td>2009-06-26 11:48:15</td>\n",
       "      <td>13</td>\n",
       "      <td>51.369613</td>\n",
       "      <td>9.636300</td>\n",
       "      <td>438</td>\n",
       "      <td>22</td>\n",
       "      <td>78</td>\n",
       "      <td>51790471</td>\n",
       "      <td>F</td>\n",
       "      <td>...</td>\n",
       "      <td>4</td>\n",
       "      <td>999</td>\n",
       "      <td>999</td>\n",
       "      <td>1</td>\n",
       "      <td>1</td>\n",
       "      <td>F</td>\n",
       "      <td>F</td>\n",
       "      <td>0.0</td>\n",
       "      <td>51.3695899/9.6361500/431.59|51.3698300/9.63660...</td>\n",
       "      <td>0.00/-0.150|41.14/-0.966|62.96/-1.369|74.30/-1...</td>\n",
       "    </tr>\n",
       "    <tr>\n",
       "      <th>272</th>\n",
       "      <td>21065</td>\n",
       "      <td>2009-06-26 11:48:20</td>\n",
       "      <td>13</td>\n",
       "      <td>51.369864</td>\n",
       "      <td>9.636753</td>\n",
       "      <td>438</td>\n",
       "      <td>36</td>\n",
       "      <td>57</td>\n",
       "      <td>51790471</td>\n",
       "      <td>T</td>\n",
       "      <td>...</td>\n",
       "      <td>4</td>\n",
       "      <td>999</td>\n",
       "      <td>999</td>\n",
       "      <td>1</td>\n",
       "      <td>1</td>\n",
       "      <td>F</td>\n",
       "      <td>F</td>\n",
       "      <td>0.0</td>\n",
       "      <td>51.3695899/9.6361500/431.59|51.3698300/9.63660...</td>\n",
       "      <td>0.00/-0.150|41.14/-0.966|62.96/-1.369|74.30/-1...</td>\n",
       "    </tr>\n",
       "  </tbody>\n",
       "</table>\n",
       "<p>5 rows × 27 columns</p>\n",
       "</div>"
      ],
      "text/plain": [
       "     sampleID            dateTime  sourceCode   latitude  longitude  altitude  \\\n",
       "0       21065 2009-06-26 11:48:20          13  51.369864   9.636753       438   \n",
       "135     21065 2009-06-26 11:48:15          13  51.369613   9.636300       438   \n",
       "136     21065 2009-06-26 11:48:20          13  51.369864   9.636753       438   \n",
       "271     21065 2009-06-26 11:48:15          13  51.369613   9.636300       438   \n",
       "272     21065 2009-06-26 11:48:20          13  51.369864   9.636753       438   \n",
       "\n",
       "     speed  heading  linkPVID direction  \\\n",
       "0       36       57  51790471         T   \n",
       "135     22       78  51790471         F   \n",
       "136     36       57  51790471         T   \n",
       "271     22       78  51790471         F   \n",
       "272     36       57  51790471         T   \n",
       "\n",
       "                           ...                          speedCategory  \\\n",
       "0                          ...                                      4   \n",
       "135                        ...                                      4   \n",
       "136                        ...                                      4   \n",
       "271                        ...                                      4   \n",
       "272                        ...                                      4   \n",
       "\n",
       "     fromRefSpeedLimit  toRefSpeedLimit  fromRefNumLanes  toRefNumLanes  \\\n",
       "0                  999              999                1              1   \n",
       "135                999              999                1              1   \n",
       "136                999              999                1              1   \n",
       "271                999              999                1              1   \n",
       "272                999              999                1              1   \n",
       "\n",
       "     multiDigitized urban  timeZone  \\\n",
       "0                 F     F       0.0   \n",
       "135               F     F       0.0   \n",
       "136               F     F       0.0   \n",
       "271               F     F       0.0   \n",
       "272               F     F       0.0   \n",
       "\n",
       "                                             shapeInfo  \\\n",
       "0    51.3695899/9.6361500/431.59|51.3698300/9.63660...   \n",
       "135  51.3695899/9.6361500/431.59|51.3698300/9.63660...   \n",
       "136  51.3695899/9.6361500/431.59|51.3698300/9.63660...   \n",
       "271  51.3695899/9.6361500/431.59|51.3698300/9.63660...   \n",
       "272  51.3695899/9.6361500/431.59|51.3698300/9.63660...   \n",
       "\n",
       "                                             slopeInfo  \n",
       "0    0.00/-0.150|41.14/-0.966|62.96/-1.369|74.30/-1...  \n",
       "135  0.00/-0.150|41.14/-0.966|62.96/-1.369|74.30/-1...  \n",
       "136  0.00/-0.150|41.14/-0.966|62.96/-1.369|74.30/-1...  \n",
       "271  0.00/-0.150|41.14/-0.966|62.96/-1.369|74.30/-1...  \n",
       "272  0.00/-0.150|41.14/-0.966|62.96/-1.369|74.30/-1...  \n",
       "\n",
       "[5 rows x 27 columns]"
      ]
     },
     "execution_count": 9,
     "metadata": {},
     "output_type": "execute_result"
    }
   ],
   "source": [
    "joined_data.head()"
   ]
  },
  {
   "cell_type": "code",
   "execution_count": 10,
   "metadata": {},
   "outputs": [
    {
     "name": "stdout",
     "output_type": "stream",
     "text": [
      "And now after the join and NA removal, we have 407 rows of data\n"
     ]
    }
   ],
   "source": [
    "print(\"And now after the join and NA removal, we have {} rows of data\".format(joined_data.shape[0]))"
   ]
  },
  {
   "cell_type": "code",
   "execution_count": 11,
   "metadata": {
    "collapsed": true
   },
   "outputs": [],
   "source": [
    "def rolling_diff(df):\n",
    "    return df[-1] - df[0]\n",
    "\n",
    "cleaned_joined_data = joined_data.dropna()\n",
    "\n",
    "cleaned_joined_data['avg_link_slope'] = cleaned_joined_data['slopeInfo'].apply(lambda x: np.mean([float(i.split('/')[1]) for i in x.split('|')]))\n",
    "\n",
    "gdf = cleaned_joined_data.groupby('sampleID')\n",
    "cleaned_joined_data['delta_elevation'] = gdf['altitude'].apply(lambda x: x.rolling(2, min_periods=2).apply(rolling_diff)).reset_index(0, drop=True)\n",
    "cleaned_joined_data['delta_latitude'] = gdf['latitude'].apply(lambda x: x.rolling(2, min_periods=2).apply(rolling_diff)).reset_index(0, drop=True)\n",
    "cleaned_joined_data['delta_longitude'] = gdf['longitude'].apply(lambda x: x.rolling(2, min_periods=2).apply(rolling_diff)).reset_index(0, drop=True)\n",
    "cleaned_joined_data['delta_speed'] = gdf['speed'].apply(lambda x: x.rolling(2, min_periods=2).apply(rolling_diff)).reset_index(0, drop=True)\n",
    "cleaned_joined_data['rolling_slope'] = cleaned_joined_data['delta_elevation'] / np.sqrt(cleaned_joined_data['delta_latitude'] ** 2 + cleaned_joined_data['delta_longitude'] ** 2)\n",
    "cleaned_joined_data['rolling_acc'] = cleaned_joined_data['delta_speed'] / np.sqrt(cleaned_joined_data['delta_latitude'] ** 2 + cleaned_joined_data['delta_longitude'] ** 2)\n",
    "\n",
    "cleaned_joined_data = cleaned_joined_data.dropna()\n"
   ]
  },
  {
   "cell_type": "code",
   "execution_count": 12,
   "metadata": {},
   "outputs": [
    {
     "name": "stderr",
     "output_type": "stream",
     "text": [
      "C:\\Users\\Pumpkin\\Anaconda3\\lib\\site-packages\\ipykernel_launcher.py:2: SettingWithCopyWarning: \n",
      "A value is trying to be set on a copy of a slice from a DataFrame.\n",
      "Try using .loc[row_indexer,col_indexer] = value instead\n",
      "\n",
      "See the caveats in the documentation: http://pandas.pydata.org/pandas-docs/stable/indexing.html#indexing-view-versus-copy\n",
      "  \n",
      "C:\\Users\\Pumpkin\\Anaconda3\\lib\\site-packages\\ipykernel_launcher.py:4: SettingWithCopyWarning: \n",
      "A value is trying to be set on a copy of a slice from a DataFrame.\n",
      "Try using .loc[row_indexer,col_indexer] = value instead\n",
      "\n",
      "See the caveats in the documentation: http://pandas.pydata.org/pandas-docs/stable/indexing.html#indexing-view-versus-copy\n",
      "  after removing the cwd from sys.path.\n"
     ]
    }
   ],
   "source": [
    "\n",
    "cleaned_joined_data['speed_limit_diff'] = cleaned_joined_data['speed'] - cleaned_joined_data['fromRefSpeedLimit']\n",
    "\n",
    "cleaned_joined_data['multiDigitized'] = cleaned_joined_data['multiDigitized'].apply(lambda x: 1 if x in 'T' else 0)\n",
    "\n"
   ]
  },
  {
   "cell_type": "code",
   "execution_count": 13,
   "metadata": {},
   "outputs": [
    {
     "name": "stdout",
     "output_type": "stream",
     "text": [
      "(386, 12)\n",
      "[0]\teval-rmse:0.888211\ttrain-rmse:0.955329\n",
      "Multiple eval metrics have been passed: 'train-rmse' will be used for early stopping.\n",
      "\n",
      "Will train until train-rmse hasn't improved in 10 rounds.\n",
      "[1]\teval-rmse:0.721246\ttrain-rmse:0.775686\n",
      "[2]\teval-rmse:0.584717\ttrain-rmse:0.630348\n",
      "[3]\teval-rmse:0.473391\ttrain-rmse:0.511738\n",
      "[4]\teval-rmse:0.383244\ttrain-rmse:0.415745\n",
      "[5]\teval-rmse:0.310185\ttrain-rmse:0.338659\n",
      "[6]\teval-rmse:0.251898\ttrain-rmse:0.275722\n",
      "[7]\teval-rmse:0.204844\ttrain-rmse:0.22504\n",
      "[8]\teval-rmse:0.166288\ttrain-rmse:0.184149\n",
      "[9]\teval-rmse:0.135252\ttrain-rmse:0.151011\n",
      "[10]\teval-rmse:0.110817\ttrain-rmse:0.123797\n",
      "[11]\teval-rmse:0.090826\ttrain-rmse:0.101845\n",
      "[12]\teval-rmse:0.074555\ttrain-rmse:0.083768\n",
      "[13]\teval-rmse:0.061268\ttrain-rmse:0.069113\n",
      "[14]\teval-rmse:0.050431\ttrain-rmse:0.057108\n",
      "[15]\teval-rmse:0.041624\ttrain-rmse:0.04716\n",
      "[16]\teval-rmse:0.034576\ttrain-rmse:0.039082\n",
      "[17]\teval-rmse:0.029032\ttrain-rmse:0.032333\n",
      "[18]\teval-rmse:0.024611\ttrain-rmse:0.026901\n",
      "[19]\teval-rmse:0.020687\ttrain-rmse:0.022377\n",
      "[20]\teval-rmse:0.01792\ttrain-rmse:0.01868\n",
      "[21]\teval-rmse:0.015374\ttrain-rmse:0.015592\n",
      "[22]\teval-rmse:0.013319\ttrain-rmse:0.013037\n",
      "[23]\teval-rmse:0.011773\ttrain-rmse:0.010945\n",
      "[24]\teval-rmse:0.010549\ttrain-rmse:0.009203\n",
      "[25]\teval-rmse:0.00957\ttrain-rmse:0.007749\n",
      "[26]\teval-rmse:0.008766\ttrain-rmse:0.006531\n",
      "[27]\teval-rmse:0.00816\ttrain-rmse:0.005498\n",
      "[28]\teval-rmse:0.007688\ttrain-rmse:0.004639\n",
      "[29]\teval-rmse:0.007326\ttrain-rmse:0.003921\n",
      "[30]\teval-rmse:0.00706\ttrain-rmse:0.00332\n",
      "[31]\teval-rmse:0.006867\ttrain-rmse:0.002816\n",
      "[32]\teval-rmse:0.006716\ttrain-rmse:0.002391\n",
      "[33]\teval-rmse:0.006602\ttrain-rmse:0.002032\n",
      "[34]\teval-rmse:0.006531\ttrain-rmse:0.001737\n",
      "[35]\teval-rmse:0.00647\ttrain-rmse:0.001489\n",
      "[36]\teval-rmse:0.006432\ttrain-rmse:0.00127\n",
      "[37]\teval-rmse:0.00641\ttrain-rmse:0.001093\n",
      "[38]\teval-rmse:0.006391\ttrain-rmse:0.000946\n",
      "[39]\teval-rmse:0.006382\ttrain-rmse:0.000822\n",
      "[40]\teval-rmse:0.006376\ttrain-rmse:0.000716\n",
      "[41]\teval-rmse:0.006373\ttrain-rmse:0.00063\n",
      "[42]\teval-rmse:0.006373\ttrain-rmse:0.000555\n",
      "[43]\teval-rmse:0.006374\ttrain-rmse:0.000497\n",
      "[44]\teval-rmse:0.006374\ttrain-rmse:0.00045\n",
      "[45]\teval-rmse:0.006361\ttrain-rmse:0.000409\n",
      "[46]\teval-rmse:0.006349\ttrain-rmse:0.000379\n",
      "[47]\teval-rmse:0.006349\ttrain-rmse:0.000361\n",
      "[48]\teval-rmse:0.006349\ttrain-rmse:0.000347\n",
      "[49]\teval-rmse:0.006349\ttrain-rmse:0.000335\n",
      "[50]\teval-rmse:0.006349\ttrain-rmse:0.000326\n",
      "[51]\teval-rmse:0.006349\ttrain-rmse:0.00032\n",
      "[52]\teval-rmse:0.006349\ttrain-rmse:0.000316\n",
      "[53]\teval-rmse:0.006349\ttrain-rmse:0.000313\n",
      "[54]\teval-rmse:0.006349\ttrain-rmse:0.000311\n",
      "[55]\teval-rmse:0.006349\ttrain-rmse:0.000311\n",
      "[56]\teval-rmse:0.006349\ttrain-rmse:0.000311\n",
      "[57]\teval-rmse:0.006349\ttrain-rmse:0.000311\n",
      "[58]\teval-rmse:0.006349\ttrain-rmse:0.000311\n",
      "[59]\teval-rmse:0.006349\ttrain-rmse:0.000311\n",
      "[60]\teval-rmse:0.006349\ttrain-rmse:0.000311\n",
      "[61]\teval-rmse:0.006349\ttrain-rmse:0.000311\n",
      "[62]\teval-rmse:0.006349\ttrain-rmse:0.000311\n",
      "[63]\teval-rmse:0.006349\ttrain-rmse:0.000311\n",
      "[64]\teval-rmse:0.006349\ttrain-rmse:0.000311\n",
      "Stopping. Best iteration:\n",
      "[54]\teval-rmse:0.006349\ttrain-rmse:0.000311\n",
      "\n"
     ]
    }
   ],
   "source": [
    "feature_set = [#'sampleID',\n",
    "                   #'dateTime',\n",
    "                   'altitude',\n",
    "                    'latitude', \n",
    "                    'longitude',\n",
    "                   'speed', \n",
    "                   'heading', \n",
    "                   'length',\n",
    "                   #'functionalClass',\n",
    "                   #'fromRefSpeedLimit',\n",
    "                    'speed_limit_diff',\n",
    "                   #'toRefSpeedLimit', \n",
    "                   #'fromRefNumLanes', \n",
    "                   #'toRefNumLanes',\n",
    "                    #'multiDigitized',\n",
    "                    #'delta_elevation',\n",
    "                    'distFromLink',\n",
    "                    'delta_speed',\n",
    "                    'rolling_acc',\n",
    "                    'rolling_slope',\n",
    "                   'avg_link_slope']\n",
    "\n",
    "subset = cleaned_joined_data[feature_set]\n",
    "\n",
    "print(subset.shape)\n",
    "import sklearn\n",
    "train, test = sklearn.model_selection.train_test_split(subset, test_size = 0.2, random_state=1)\n",
    "\n",
    "\n",
    "dtrain = xgb.DMatrix(train.values[:,:-1], train.values[:,-1], feature_names = feature_set[:-1])\n",
    "dtest = xgb.DMatrix(test.values[:,:-1], test.values[:,-1], feature_names = feature_set[:-1])\n",
    "param = {'max_depth':10, 'eta':0.2, 'silent':1, \"lambda\": 1.2, \"objective\": \"reg:linear\", \"booster\":\"gbtree\" }\n",
    "param['nthread'] = 63\n",
    "param['eval_metric'] = 'rmse'\n",
    "evallist  = [(dtest,'eval'), (dtrain,'train')]\n",
    "num_round = 200\n",
    "bst = xgb.train( param, dtrain, num_round, evallist, early_stopping_rounds=10)\n"
   ]
  },
  {
   "cell_type": "code",
   "execution_count": 14,
   "metadata": {},
   "outputs": [
    {
     "data": {
      "text/plain": [
       "<matplotlib.axes._subplots.AxesSubplot at 0x1b38aaa3588>"
      ]
     },
     "execution_count": 14,
     "metadata": {},
     "output_type": "execute_result"
    },
    {
     "data": {
      "image/png": "[encoded data removed]",
      "text/plain": [
       "<matplotlib.figure.Figure at 0x1b3857df978>"
      ]
     },
     "metadata": {},
     "output_type": "display_data"
    }
   ],
   "source": [
    "xgb.plot_importance(bst)"
   ]
  },
  {
   "cell_type": "code",
   "execution_count": 15,
   "metadata": {},
   "outputs": [
    {
     "name": "stderr",
     "output_type": "stream",
     "text": [
      "C:\\Users\\Pumpkin\\Anaconda3\\lib\\site-packages\\ipykernel_launcher.py:3: SettingWithCopyWarning: \n",
      "A value is trying to be set on a copy of a slice from a DataFrame.\n",
      "Try using .loc[row_indexer,col_indexer] = value instead\n",
      "\n",
      "See the caveats in the documentation: http://pandas.pydata.org/pandas-docs/stable/indexing.html#indexing-view-versus-copy\n",
      "  This is separate from the ipykernel package so we can avoid doing imports until\n"
     ]
    },
    {
     "data": {
      "image/png": "[encoded data removed]",
      "text/plain": [
       "<matplotlib.figure.Figure at 0x1b38c6acb70>"
      ]
     },
     "metadata": {},
     "output_type": "display_data"
    }
   ],
   "source": [
    "preds = bst.predict(dtest)\n",
    "zipped_preds = test\n",
    "zipped_preds['preds'] = preds\n",
    "\n",
    "plt.figure()\n",
    "plt.scatter(zipped_preds['avg_link_slope'], zipped_preds['preds'])\n",
    "plt.xlabel('avg link slope')\n",
    "plt.ylabel('predicted link slope')\n",
    "plt.show()"
   ]
  },
  {
   "cell_type": "code",
   "execution_count": 19,
   "metadata": {},
   "outputs": [],
   "source": [
    "zipped_preds.to_csv('slope.csv')"
   ]
  },
  {
   "cell_type": "code",
   "execution_count": null,
   "metadata": {
    "collapsed": true
   },
   "outputs": [],
   "source": []
  }
 ],
 "metadata": {
  "kernelspec": {
   "display_name": "Python 3",
   "language": "python",
   "name": "python3"
  },
  "language_info": {
   "codemirror_mode": {
    "name": "ipython",
    "version": 3
   },
   "file_extension": ".py",
   "mimetype": "text/x-python",
   "name": "python",
   "nbconvert_exporter": "python",
   "pygments_lexer": "ipython3",
   "version": "3.5.3"
  }
 },
 "nbformat": 4,
 "nbformat_minor": 2
}
