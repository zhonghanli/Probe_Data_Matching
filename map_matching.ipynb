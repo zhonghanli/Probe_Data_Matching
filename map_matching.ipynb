{
 "cells": [
  {
   "cell_type": "markdown",
   "metadata": {},
   "source": [
    "# Probe Data - Map Matching\n",
    "## Nick Paras | Kapil Garg\n",
    "\n",
    "### Assignment 2\n",
    "\n",
    "Input: Probe data and map [probe_data_map_matching.rar](https://canvas.northwestern.edu/courses/51440/files/3334329/download?wrap=1)\n",
    "\n",
    "-The raw probe points in Germany collected in 9 months\n",
    "\n",
    "-The link data for the links that probe points can be map-matched to.\n",
    "\n",
    "Tasks:\n",
    "-- map match probe points to road links\n",
    "\n",
    "-- derive road slope for each road link\n",
    "\n",
    "-- evaluate the derived road slope with the surveyed road slope in the link data file\n",
    "\n",
    "**Please submit your code and slides presentation of your approach and results including evaluation comparing with the slopes in the link data file**"
   ]
  },
  {
   "cell_type": "markdown",
   "metadata": {},
   "source": [
    "### Setup\n",
    "\n",
    "We use **Python 3.6** and rely on a number of dependencies for computation and visualization. To easily install everything, we have included all of our dependencies in `environment.yml`. For quick setup, please create a conda environment with the following:\n",
    "\n",
    "    $ conda create --name probe-data -f environment.yml\n",
    "\n",
    "and then activate the conda environment with\n",
    "\n",
    "    $ source activate probe-data"
   ]
  },
  {
   "cell_type": "code",
   "execution_count": 4,
   "metadata": {},
   "outputs": [],
   "source": [
    "# Imports\n",
    "import os\n",
    "\n",
    "import numpy as np\n",
    "import matplotlib.pyplot as plt\n",
    "import pandas as pd\n",
    "import json\n",
    "import gmplot\n",
    "\n",
    "from datetime import datetime\n",
    "from bs4 import BeautifulSoup\n",
    "from IPython.display import IFrame\n",
    "\n",
    "%matplotlib inline\n",
    "\n",
    "# Constants\n",
    "DATA_DIR = \"probe_data_map_matching\"\n",
    "\n",
    "GOOGLE_MAPS_KEY = ''\n",
    "with open('config.json') as data_file:\n",
    "    data = json.load(data_file)\n",
    "    GOOGLE_MAPS_KEY = data['google-maps-key']"
   ]
  },
  {
   "cell_type": "markdown",
   "metadata": {},
   "source": [
    "## Loading Probe Data for Map Matching\n",
    "\n",
    "Here we'll load our data from the two csv's into Pandas DataFrames."
   ]
  },
  {
   "cell_type": "code",
   "execution_count": 5,
   "metadata": {},
   "outputs": [
    {
     "data": {
      "text/html": [
       "<div>\n",
       "<table border=\"1\" class=\"dataframe\">\n",
       "  <thead>\n",
       "    <tr style=\"text-align: right;\">\n",
       "      <th></th>\n",
       "      <th>sampleID</th>\n",
       "      <th>dateTime</th>\n",
       "      <th>sourceCode</th>\n",
       "      <th>latitude</th>\n",
       "      <th>longitude</th>\n",
       "      <th>altitude</th>\n",
       "      <th>speed</th>\n",
       "      <th>heading</th>\n",
       "    </tr>\n",
       "  </thead>\n",
       "  <tbody>\n",
       "    <tr>\n",
       "      <th>0</th>\n",
       "      <td>3496</td>\n",
       "      <td>2009-06-12 06:12:49</td>\n",
       "      <td>13</td>\n",
       "      <td>51.496868</td>\n",
       "      <td>9.386022</td>\n",
       "      <td>200</td>\n",
       "      <td>23</td>\n",
       "      <td>339</td>\n",
       "    </tr>\n",
       "    <tr>\n",
       "      <th>1</th>\n",
       "      <td>3496</td>\n",
       "      <td>2009-06-12 06:12:54</td>\n",
       "      <td>13</td>\n",
       "      <td>51.496682</td>\n",
       "      <td>9.386157</td>\n",
       "      <td>200</td>\n",
       "      <td>10</td>\n",
       "      <td>129</td>\n",
       "    </tr>\n",
       "    <tr>\n",
       "      <th>2</th>\n",
       "      <td>3496</td>\n",
       "      <td>2009-06-12 06:12:59</td>\n",
       "      <td>13</td>\n",
       "      <td>51.496705</td>\n",
       "      <td>9.386422</td>\n",
       "      <td>201</td>\n",
       "      <td>21</td>\n",
       "      <td>60</td>\n",
       "    </tr>\n",
       "    <tr>\n",
       "      <th>3</th>\n",
       "      <td>3496</td>\n",
       "      <td>2009-06-12 06:13:04</td>\n",
       "      <td>13</td>\n",
       "      <td>51.496749</td>\n",
       "      <td>9.386840</td>\n",
       "      <td>201</td>\n",
       "      <td>0</td>\n",
       "      <td>360</td>\n",
       "    </tr>\n",
       "    <tr>\n",
       "      <th>4</th>\n",
       "      <td>3496</td>\n",
       "      <td>2009-06-12 06:13:09</td>\n",
       "      <td>13</td>\n",
       "      <td>51.496864</td>\n",
       "      <td>9.387294</td>\n",
       "      <td>199</td>\n",
       "      <td>0</td>\n",
       "      <td>360</td>\n",
       "    </tr>\n",
       "  </tbody>\n",
       "</table>\n",
       "</div>"
      ],
      "text/plain": [
       "   sampleID            dateTime  sourceCode   latitude  longitude  altitude  \\\n",
       "0      3496 2009-06-12 06:12:49          13  51.496868   9.386022       200   \n",
       "1      3496 2009-06-12 06:12:54          13  51.496682   9.386157       200   \n",
       "2      3496 2009-06-12 06:12:59          13  51.496705   9.386422       201   \n",
       "3      3496 2009-06-12 06:13:04          13  51.496749   9.386840       201   \n",
       "4      3496 2009-06-12 06:13:09          13  51.496864   9.387294       199   \n",
       "\n",
       "   speed  heading  \n",
       "0     23      339  \n",
       "1     10      129  \n",
       "2     21       60  \n",
       "3      0      360  \n",
       "4      0      360  "
      ]
     },
     "execution_count": 5,
     "metadata": {},
     "output_type": "execute_result"
    }
   ],
   "source": [
    "probe_headers = ['sampleID', \n",
    "                 'dateTime', \n",
    "                 'sourceCode', \n",
    "                 'latitude', \n",
    "                 'longitude', \n",
    "                 'altitude', \n",
    "                 'speed', \n",
    "                 'heading']\n",
    "\n",
    "probe_data = pd.read_csv(os.path.join(DATA_DIR, 'Partition6467ProbePoints.csv'), header=None, names=probe_headers)\n",
    "probe_data.drop_duplicates(inplace=True)\n",
    "probe_data['dateTime'] = pd.to_datetime(probe_data['dateTime'], format='%m/%d/%Y %I:%M:%S %p')\n",
    "probe_data.head()"
   ]
  },
  {
   "cell_type": "code",
   "execution_count": 6,
   "metadata": {},
   "outputs": [
    {
     "ename": "NameError",
     "evalue": "name 'reduce' is not defined",
     "output_type": "error",
     "traceback": [
      "\u001b[0;31m---------------------------------------------------------------------------\u001b[0m",
      "\u001b[0;31mNameError\u001b[0m                                 Traceback (most recent call last)",
      "\u001b[0;32m<ipython-input-6-16911ccfb20e>\u001b[0m in \u001b[0;36m<module>\u001b[0;34m()\u001b[0m\n\u001b[1;32m     22\u001b[0m \u001b[0mlink_data\u001b[0m\u001b[0;34m.\u001b[0m\u001b[0mloc\u001b[0m\u001b[0;34m[\u001b[0m\u001b[0mlink_data\u001b[0m\u001b[0;34m[\u001b[0m\u001b[0;34m'speedLimit'\u001b[0m\u001b[0;34m]\u001b[0m \u001b[0;34m==\u001b[0m \u001b[0;36m0\u001b[0m\u001b[0;34m,\u001b[0m \u001b[0;34m'speedLimit'\u001b[0m\u001b[0;34m]\u001b[0m \u001b[0;34m=\u001b[0m \u001b[0;36m1\u001b[0m\u001b[0;34m\u001b[0m\u001b[0m\n\u001b[1;32m     23\u001b[0m \u001b[0mlink_data\u001b[0m\u001b[0;34m[\u001b[0m\u001b[0;34m'shapeArray'\u001b[0m\u001b[0;34m]\u001b[0m \u001b[0;34m=\u001b[0m \u001b[0mlink_data\u001b[0m\u001b[0;34m[\u001b[0m\u001b[0;34m'shapeInfo'\u001b[0m\u001b[0;34m]\u001b[0m\u001b[0;34m.\u001b[0m\u001b[0mapply\u001b[0m\u001b[0;34m(\u001b[0m\u001b[0;32mlambda\u001b[0m \u001b[0mx\u001b[0m\u001b[0;34m:\u001b[0m \u001b[0;34m[\u001b[0m\u001b[0;34m[\u001b[0m\u001b[0mfloat\u001b[0m\u001b[0;34m(\u001b[0m\u001b[0mj\u001b[0m\u001b[0;34m)\u001b[0m \u001b[0;32mfor\u001b[0m \u001b[0mj\u001b[0m \u001b[0;32min\u001b[0m \u001b[0mi\u001b[0m\u001b[0;34m.\u001b[0m\u001b[0msplit\u001b[0m\u001b[0;34m(\u001b[0m\u001b[0;34m'/'\u001b[0m\u001b[0;34m)\u001b[0m\u001b[0;34m[\u001b[0m\u001b[0;34m:\u001b[0m\u001b[0;36m2\u001b[0m\u001b[0;34m]\u001b[0m\u001b[0;34m]\u001b[0m \u001b[0;32mfor\u001b[0m \u001b[0mi\u001b[0m \u001b[0;32min\u001b[0m \u001b[0mx\u001b[0m\u001b[0;34m.\u001b[0m\u001b[0msplit\u001b[0m\u001b[0;34m(\u001b[0m\u001b[0;34m'|'\u001b[0m\u001b[0;34m)\u001b[0m\u001b[0;34m]\u001b[0m\u001b[0;34m)\u001b[0m\u001b[0;34m\u001b[0m\u001b[0m\n\u001b[0;32m---> 24\u001b[0;31m \u001b[0mlink_data\u001b[0m\u001b[0;34m[\u001b[0m\u001b[0;34m'location'\u001b[0m\u001b[0;34m]\u001b[0m \u001b[0;34m=\u001b[0m \u001b[0mlink_data\u001b[0m\u001b[0;34m[\u001b[0m\u001b[0;34m'shapeArray'\u001b[0m\u001b[0;34m]\u001b[0m\u001b[0;34m.\u001b[0m\u001b[0mapply\u001b[0m\u001b[0;34m(\u001b[0m\u001b[0;32mlambda\u001b[0m \u001b[0mx\u001b[0m\u001b[0;34m:\u001b[0m \u001b[0mreduce\u001b[0m\u001b[0;34m(\u001b[0m\u001b[0mnp\u001b[0m\u001b[0;34m.\u001b[0m\u001b[0madd\u001b[0m\u001b[0;34m,\u001b[0m \u001b[0mx\u001b[0m\u001b[0;34m)\u001b[0m \u001b[0;34m/\u001b[0m \u001b[0mlen\u001b[0m\u001b[0;34m(\u001b[0m\u001b[0mx\u001b[0m\u001b[0;34m)\u001b[0m\u001b[0;34m)\u001b[0m\u001b[0;34m\u001b[0m\u001b[0m\n\u001b[0m\u001b[1;32m     25\u001b[0m \u001b[0mlink_data\u001b[0m\u001b[0;34m.\u001b[0m\u001b[0mhead\u001b[0m\u001b[0;34m(\u001b[0m\u001b[0;34m)\u001b[0m\u001b[0;34m\u001b[0m\u001b[0m\n",
      "\u001b[0;32m/Users/kapilgarg/miniconda3/envs/probe-data/lib/python3.6/site-packages/pandas/core/series.py\u001b[0m in \u001b[0;36mapply\u001b[0;34m(self, func, convert_dtype, args, **kwds)\u001b[0m\n\u001b[1;32m   2292\u001b[0m             \u001b[0;32melse\u001b[0m\u001b[0;34m:\u001b[0m\u001b[0;34m\u001b[0m\u001b[0m\n\u001b[1;32m   2293\u001b[0m                 \u001b[0mvalues\u001b[0m \u001b[0;34m=\u001b[0m \u001b[0mself\u001b[0m\u001b[0;34m.\u001b[0m\u001b[0masobject\u001b[0m\u001b[0;34m\u001b[0m\u001b[0m\n\u001b[0;32m-> 2294\u001b[0;31m                 \u001b[0mmapped\u001b[0m \u001b[0;34m=\u001b[0m \u001b[0mlib\u001b[0m\u001b[0;34m.\u001b[0m\u001b[0mmap_infer\u001b[0m\u001b[0;34m(\u001b[0m\u001b[0mvalues\u001b[0m\u001b[0;34m,\u001b[0m \u001b[0mf\u001b[0m\u001b[0;34m,\u001b[0m \u001b[0mconvert\u001b[0m\u001b[0;34m=\u001b[0m\u001b[0mconvert_dtype\u001b[0m\u001b[0;34m)\u001b[0m\u001b[0;34m\u001b[0m\u001b[0m\n\u001b[0m\u001b[1;32m   2295\u001b[0m \u001b[0;34m\u001b[0m\u001b[0m\n\u001b[1;32m   2296\u001b[0m         \u001b[0;32mif\u001b[0m \u001b[0mlen\u001b[0m\u001b[0;34m(\u001b[0m\u001b[0mmapped\u001b[0m\u001b[0;34m)\u001b[0m \u001b[0;32mand\u001b[0m \u001b[0misinstance\u001b[0m\u001b[0;34m(\u001b[0m\u001b[0mmapped\u001b[0m\u001b[0;34m[\u001b[0m\u001b[0;36m0\u001b[0m\u001b[0;34m]\u001b[0m\u001b[0;34m,\u001b[0m \u001b[0mSeries\u001b[0m\u001b[0;34m)\u001b[0m\u001b[0;34m:\u001b[0m\u001b[0;34m\u001b[0m\u001b[0m\n",
      "\u001b[0;32mpandas/src/inference.pyx\u001b[0m in \u001b[0;36mpandas.lib.map_infer (pandas/lib.c:66124)\u001b[0;34m()\u001b[0m\n",
      "\u001b[0;32m<ipython-input-6-16911ccfb20e>\u001b[0m in \u001b[0;36m<lambda>\u001b[0;34m(x)\u001b[0m\n\u001b[1;32m     22\u001b[0m \u001b[0mlink_data\u001b[0m\u001b[0;34m.\u001b[0m\u001b[0mloc\u001b[0m\u001b[0;34m[\u001b[0m\u001b[0mlink_data\u001b[0m\u001b[0;34m[\u001b[0m\u001b[0;34m'speedLimit'\u001b[0m\u001b[0;34m]\u001b[0m \u001b[0;34m==\u001b[0m \u001b[0;36m0\u001b[0m\u001b[0;34m,\u001b[0m \u001b[0;34m'speedLimit'\u001b[0m\u001b[0;34m]\u001b[0m \u001b[0;34m=\u001b[0m \u001b[0;36m1\u001b[0m\u001b[0;34m\u001b[0m\u001b[0m\n\u001b[1;32m     23\u001b[0m \u001b[0mlink_data\u001b[0m\u001b[0;34m[\u001b[0m\u001b[0;34m'shapeArray'\u001b[0m\u001b[0;34m]\u001b[0m \u001b[0;34m=\u001b[0m \u001b[0mlink_data\u001b[0m\u001b[0;34m[\u001b[0m\u001b[0;34m'shapeInfo'\u001b[0m\u001b[0;34m]\u001b[0m\u001b[0;34m.\u001b[0m\u001b[0mapply\u001b[0m\u001b[0;34m(\u001b[0m\u001b[0;32mlambda\u001b[0m \u001b[0mx\u001b[0m\u001b[0;34m:\u001b[0m \u001b[0;34m[\u001b[0m\u001b[0;34m[\u001b[0m\u001b[0mfloat\u001b[0m\u001b[0;34m(\u001b[0m\u001b[0mj\u001b[0m\u001b[0;34m)\u001b[0m \u001b[0;32mfor\u001b[0m \u001b[0mj\u001b[0m \u001b[0;32min\u001b[0m \u001b[0mi\u001b[0m\u001b[0;34m.\u001b[0m\u001b[0msplit\u001b[0m\u001b[0;34m(\u001b[0m\u001b[0;34m'/'\u001b[0m\u001b[0;34m)\u001b[0m\u001b[0;34m[\u001b[0m\u001b[0;34m:\u001b[0m\u001b[0;36m2\u001b[0m\u001b[0;34m]\u001b[0m\u001b[0;34m]\u001b[0m \u001b[0;32mfor\u001b[0m \u001b[0mi\u001b[0m \u001b[0;32min\u001b[0m \u001b[0mx\u001b[0m\u001b[0;34m.\u001b[0m\u001b[0msplit\u001b[0m\u001b[0;34m(\u001b[0m\u001b[0;34m'|'\u001b[0m\u001b[0;34m)\u001b[0m\u001b[0;34m]\u001b[0m\u001b[0;34m)\u001b[0m\u001b[0;34m\u001b[0m\u001b[0m\n\u001b[0;32m---> 24\u001b[0;31m \u001b[0mlink_data\u001b[0m\u001b[0;34m[\u001b[0m\u001b[0;34m'location'\u001b[0m\u001b[0;34m]\u001b[0m \u001b[0;34m=\u001b[0m \u001b[0mlink_data\u001b[0m\u001b[0;34m[\u001b[0m\u001b[0;34m'shapeArray'\u001b[0m\u001b[0;34m]\u001b[0m\u001b[0;34m.\u001b[0m\u001b[0mapply\u001b[0m\u001b[0;34m(\u001b[0m\u001b[0;32mlambda\u001b[0m \u001b[0mx\u001b[0m\u001b[0;34m:\u001b[0m \u001b[0mreduce\u001b[0m\u001b[0;34m(\u001b[0m\u001b[0mnp\u001b[0m\u001b[0;34m.\u001b[0m\u001b[0madd\u001b[0m\u001b[0;34m,\u001b[0m \u001b[0mx\u001b[0m\u001b[0;34m)\u001b[0m \u001b[0;34m/\u001b[0m \u001b[0mlen\u001b[0m\u001b[0;34m(\u001b[0m\u001b[0mx\u001b[0m\u001b[0;34m)\u001b[0m\u001b[0;34m)\u001b[0m\u001b[0;34m\u001b[0m\u001b[0m\n\u001b[0m\u001b[1;32m     25\u001b[0m \u001b[0mlink_data\u001b[0m\u001b[0;34m.\u001b[0m\u001b[0mhead\u001b[0m\u001b[0;34m(\u001b[0m\u001b[0;34m)\u001b[0m\u001b[0;34m\u001b[0m\u001b[0m\n",
      "\u001b[0;31mNameError\u001b[0m: name 'reduce' is not defined"
     ]
    }
   ],
   "source": [
    "link_headers = ['linkPVID', \n",
    "                'refNodeID', \n",
    "                'nrefNodeID', \n",
    "                'length', \n",
    "                'functionalClass', \n",
    "                'directionOfTravel', \n",
    "                'speedCategory', \n",
    "                'fromRefSpeedLimit', \n",
    "                'toRefSpeedLimit', \n",
    "                'fromRefNumLanes', \n",
    "                'toRefNumLanes', \n",
    "                'multiDigitized', \n",
    "                'urban', \n",
    "                'timeZone', \n",
    "                'shapeInfo', \n",
    "                'curvatureInfo', \n",
    "                'slopeInfo']\n",
    "\n",
    "# load raw link data\n",
    "link_data = pd.read_csv(os.path.join(DATA_DIR, 'Partition6467LinkData.csv'), header=None, names=link_headers)\n",
    "link_data['speedLimit'] = link_data[['fromRefSpeedLimit', 'toRefSpeedLimit']].max(axis=1)\n",
    "link_data.loc[link_data['speedLimit'] == 0, 'speedLimit'] = 1\n",
    "link_data['shapeArray'] = link_data['shapeInfo'].apply(lambda x: [[float(j) for j in i.split('/')[:2]] for i in x.split('|')])\n",
    "link_data['location'] = link_data['shapeArray'].apply(lambda x: reduce(np.add, x) / len(x))\n",
    "link_data.head()"
   ]
  },
  {
   "cell_type": "markdown",
   "metadata": {},
   "source": [
    "#### Initial Observations\n",
    "\n",
    "As can be seen in the first 4 rows of `link_data`, there are missing values in the data. More specifically, we can see right away that `curvatureInfo` and `slopeInfo` are missing from some rows. After checking the `README`, we confirm that this is expected."
   ]
  },
  {
   "cell_type": "markdown",
   "metadata": {
    "collapsed": true
   },
   "source": [
    "### Exploratory Data Analysis"
   ]
  },
  {
   "cell_type": "markdown",
   "metadata": {},
   "source": [
    "#### Number of Points per Trajectory, Sample Rate, etc.\n",
    "\n",
    "We know from the literature that the sample rate and/or number of points per trajectory can have a big impact on the quality of our matching, and should therefore inform our choice of algorithm."
   ]
  },
  {
   "cell_type": "code",
   "execution_count": null,
   "metadata": {},
   "outputs": [],
   "source": [
    "sample_sizes = probe_data.groupby(['sampleID'])['dateTime'].size()"
   ]
  },
  {
   "cell_type": "code",
   "execution_count": null,
   "metadata": {},
   "outputs": [],
   "source": [
    "len(sample_sizes)"
   ]
  },
  {
   "cell_type": "markdown",
   "metadata": {},
   "source": [
    "So, there are 75840 unique trajectories."
   ]
  },
  {
   "cell_type": "code",
   "execution_count": null,
   "metadata": {},
   "outputs": [],
   "source": [
    "sample_sizes.hist()"
   ]
  },
  {
   "cell_type": "markdown",
   "metadata": {},
   "source": [
    "And, it appears that most of them have fewer than 100 sample points, although there are some that have quite a bit more."
   ]
  },
  {
   "cell_type": "markdown",
   "metadata": {},
   "source": [
    "Now we want to find the sampling rate of the points."
   ]
  },
  {
   "cell_type": "code",
   "execution_count": null,
   "metadata": {
    "collapsed": true
   },
   "outputs": [],
   "source": [
    "sampling_rates = probe_data.groupby(['sampleID'])"
   ]
  },
  {
   "cell_type": "code",
   "execution_count": null,
   "metadata": {},
   "outputs": [],
   "source": [
    "date_bounds = sampling_rates['dateTime'].agg({'date_min': min,\n",
    "                                              'date_max': max})\n",
    "\n",
    "num_samples = sampling_rates['dateTime'].size()"
   ]
  },
  {
   "cell_type": "code",
   "execution_count": null,
   "metadata": {},
   "outputs": [],
   "source": [
    "date_bounds.head()"
   ]
  },
  {
   "cell_type": "code",
   "execution_count": null,
   "metadata": {},
   "outputs": [],
   "source": [
    "num_samples.head()"
   ]
  },
  {
   "cell_type": "code",
   "execution_count": null,
   "metadata": {},
   "outputs": [],
   "source": [
    "combined = date_bounds\n",
    "combined['num_samples'] = num_samples"
   ]
  },
  {
   "cell_type": "code",
   "execution_count": null,
   "metadata": {},
   "outputs": [],
   "source": [
    "combined.head()"
   ]
  },
  {
   "cell_type": "code",
   "execution_count": null,
   "metadata": {},
   "outputs": [],
   "source": [
    "combined['time_diff'] = combined['date_max'] - combined['date_min']"
   ]
  },
  {
   "cell_type": "code",
   "execution_count": null,
   "metadata": {},
   "outputs": [],
   "source": [
    "combined['time_diff'] = combined['time_diff'].apply(lambda x: x.seconds / 60.0)"
   ]
  },
  {
   "cell_type": "code",
   "execution_count": null,
   "metadata": {},
   "outputs": [],
   "source": [
    "combined['sample_rate'] = combined['num_samples']/(combined['time_diff'] + 0.00001)"
   ]
  },
  {
   "cell_type": "code",
   "execution_count": null,
   "metadata": {},
   "outputs": [],
   "source": [
    "combined['sample_rate'].hist(range=(0,20))"
   ]
  },
  {
   "cell_type": "markdown",
   "metadata": {},
   "source": [
    "So, we can see that most of the trajectories are sampled between 3 and 15 Hz."
   ]
  },
  {
   "cell_type": "markdown",
   "metadata": {},
   "source": [
    "## Simple Point-to-Curve Matching\n",
    "\n",
    "First, we start with the simplest possible method, _point-to-curve_. We know from the literature that this method (and other simple techniques) is/are highly sensitive to outliers. Therefore, we start with this method more to establish our data pipeline rather than out of expectation of a final solution."
   ]
  },
  {
   "cell_type": "code",
   "execution_count": null,
   "metadata": {},
   "outputs": [],
   "source": [
    "probe_data.head()"
   ]
  },
  {
   "cell_type": "code",
   "execution_count": null,
   "metadata": {},
   "outputs": [],
   "source": [
    "probe_data.tail()"
   ]
  },
  {
   "cell_type": "code",
   "execution_count": null,
   "metadata": {
    "collapsed": true
   },
   "outputs": [],
   "source": [
    "trajectories = probe_data.groupby(['sampleID'])"
   ]
  },
  {
   "cell_type": "code",
   "execution_count": null,
   "metadata": {},
   "outputs": [],
   "source": [
    "trajectories.get_group(3496).head()"
   ]
  },
  {
   "cell_type": "code",
   "execution_count": null,
   "metadata": {},
   "outputs": [],
   "source": [
    "link_data.head()"
   ]
  },
  {
   "cell_type": "code",
   "execution_count": null,
   "metadata": {},
   "outputs": [],
   "source": [
    "link_data.loc[345]"
   ]
  },
  {
   "cell_type": "code",
   "execution_count": null,
   "metadata": {},
   "outputs": [],
   "source": [
    "from haversine import haversine"
   ]
  },
  {
   "cell_type": "code",
   "execution_count": null,
   "metadata": {},
   "outputs": [],
   "source": [
    "haversine((51.4256599, 10.0942899), (51.4257300, 10.0941699))"
   ]
  },
  {
   "cell_type": "code",
   "execution_count": null,
   "metadata": {},
   "outputs": [],
   "source": [
    "# split the lat/lons out from the string\n",
    "[[float(x) for x in i.split('/')[:2]] for i in link_data.loc[345]['shapeInfo'].split('|')]"
   ]
  },
  {
   "cell_type": "code",
   "execution_count": null,
   "metadata": {},
   "outputs": [],
   "source": [
    "link_data[['linkPVID', 'shapeInfo']].head()"
   ]
  },
  {
   "cell_type": "code",
   "execution_count": null,
   "metadata": {},
   "outputs": [],
   "source": [
    "def find_closest(probe_point):\n",
    "    tmp_col = link_data[['linkPVID', 'shapeInfo']]\n",
    "    tmp_col['min_link_dist'] = tmp_col['shapeInfo'].apply(lambda x: min(haversine(probe_point, [float(j) for j in i.split('/')[:2]]) for i in x.split('|')))\n",
    "    return tmp_col.ix[tmp_col['min_link_dist'].idxmin()]['linkPVID']"
   ]
  },
  {
   "cell_type": "code",
   "execution_count": null,
   "metadata": {},
   "outputs": [],
   "source": [
    "find_closest([51.496868, 9.386022])"
   ]
  },
  {
   "cell_type": "code",
   "execution_count": null,
   "metadata": {},
   "outputs": [],
   "source": [
    "find_closest([52.217058, 8.974134])"
   ]
  },
  {
   "cell_type": "code",
   "execution_count": null,
   "metadata": {},
   "outputs": [],
   "source": [
    "probe_data[['sampleID', 'latitude', 'longitude']].head().apply(lambda x: find_closest((x[1], x[2])), axis=1)"
   ]
  },
  {
   "cell_type": "code",
   "execution_count": null,
   "metadata": {},
   "outputs": [],
   "source": [
    "probe_data['pointToCurveNearest'] = probe_data[['sampleID', 'latitude', 'longitude']].apply(lambda x: find_closest((x[1], x[2])), axis=1)"
   ]
  },
  {
   "cell_type": "markdown",
   "metadata": {
    "collapsed": true
   },
   "source": [
    "### Plot data\n",
    "Now, we plot both the probe data with its associated links"
   ]
  },
  {
   "cell_type": "code",
   "execution_count": 7,
   "metadata": {},
   "outputs": [
    {
     "data": {
      "text/html": [
       "<div>\n",
       "<table border=\"1\" class=\"dataframe\">\n",
       "  <thead>\n",
       "    <tr style=\"text-align: right;\">\n",
       "      <th></th>\n",
       "      <th>sampleID</th>\n",
       "      <th>dateTime</th>\n",
       "      <th>sourceCode</th>\n",
       "      <th>latitude</th>\n",
       "      <th>longitude</th>\n",
       "      <th>altitude</th>\n",
       "      <th>speed</th>\n",
       "      <th>heading</th>\n",
       "      <th>linkPVID</th>\n",
       "      <th>direction</th>\n",
       "      <th>distFromRef</th>\n",
       "      <th>distFromLink</th>\n",
       "    </tr>\n",
       "  </thead>\n",
       "  <tbody>\n",
       "    <tr>\n",
       "      <th>0</th>\n",
       "      <td>3496</td>\n",
       "      <td>6/12/2009 6:12:49 AM</td>\n",
       "      <td>13</td>\n",
       "      <td>51.496868</td>\n",
       "      <td>9.386022</td>\n",
       "      <td>200</td>\n",
       "      <td>23</td>\n",
       "      <td>339</td>\n",
       "      <td>706849300.0</td>\n",
       "      <td>B</td>\n",
       "      <td>360.857004</td>\n",
       "      <td>2.264648</td>\n",
       "    </tr>\n",
       "    <tr>\n",
       "      <th>1</th>\n",
       "      <td>3496</td>\n",
       "      <td>6/12/2009 6:12:54 AM</td>\n",
       "      <td>13</td>\n",
       "      <td>51.496682</td>\n",
       "      <td>9.386157</td>\n",
       "      <td>200</td>\n",
       "      <td>10</td>\n",
       "      <td>129</td>\n",
       "      <td>62007637.0</td>\n",
       "      <td>B</td>\n",
       "      <td>12.429214</td>\n",
       "      <td>1.654407</td>\n",
       "    </tr>\n",
       "    <tr>\n",
       "      <th>2</th>\n",
       "      <td>3496</td>\n",
       "      <td>6/12/2009 6:12:59 AM</td>\n",
       "      <td>13</td>\n",
       "      <td>51.496705</td>\n",
       "      <td>9.386422</td>\n",
       "      <td>201</td>\n",
       "      <td>21</td>\n",
       "      <td>60</td>\n",
       "      <td>550095206.0</td>\n",
       "      <td>B</td>\n",
       "      <td>560.570762</td>\n",
       "      <td>0.653992</td>\n",
       "    </tr>\n",
       "    <tr>\n",
       "      <th>3</th>\n",
       "      <td>3496</td>\n",
       "      <td>6/12/2009 6:13:04 AM</td>\n",
       "      <td>13</td>\n",
       "      <td>51.496749</td>\n",
       "      <td>9.386840</td>\n",
       "      <td>201</td>\n",
       "      <td>0</td>\n",
       "      <td>360</td>\n",
       "      <td>567329767.0</td>\n",
       "      <td>B</td>\n",
       "      <td>46.237135</td>\n",
       "      <td>2.528689</td>\n",
       "    </tr>\n",
       "    <tr>\n",
       "      <th>4</th>\n",
       "      <td>3496</td>\n",
       "      <td>6/12/2009 6:13:09 AM</td>\n",
       "      <td>13</td>\n",
       "      <td>51.496864</td>\n",
       "      <td>9.387294</td>\n",
       "      <td>199</td>\n",
       "      <td>0</td>\n",
       "      <td>360</td>\n",
       "      <td>567329767.0</td>\n",
       "      <td>B</td>\n",
       "      <td>80.145068</td>\n",
       "      <td>3.234761</td>\n",
       "    </tr>\n",
       "  </tbody>\n",
       "</table>\n",
       "</div>"
      ],
      "text/plain": [
       "   sampleID              dateTime  sourceCode   latitude  longitude  altitude  \\\n",
       "0      3496  6/12/2009 6:12:49 AM          13  51.496868   9.386022       200   \n",
       "1      3496  6/12/2009 6:12:54 AM          13  51.496682   9.386157       200   \n",
       "2      3496  6/12/2009 6:12:59 AM          13  51.496705   9.386422       201   \n",
       "3      3496  6/12/2009 6:13:04 AM          13  51.496749   9.386840       201   \n",
       "4      3496  6/12/2009 6:13:09 AM          13  51.496864   9.387294       199   \n",
       "\n",
       "   speed  heading     linkPVID direction  distFromRef  distFromLink  \n",
       "0     23      339  706849300.0         B   360.857004      2.264648  \n",
       "1     10      129   62007637.0         B    12.429214      1.654407  \n",
       "2     21       60  550095206.0         B   560.570762      0.653992  \n",
       "3      0      360  567329767.0         B    46.237135      2.528689  \n",
       "4      0      360  567329767.0         B    80.145068      3.234761  "
      ]
     },
     "execution_count": 7,
     "metadata": {},
     "output_type": "execute_result"
    }
   ],
   "source": [
    "simple_match_data = pd.read_csv('./simple_match.csv')\n",
    "simple_match_data.head()"
   ]
  },
  {
   "cell_type": "code",
   "execution_count": 8,
   "metadata": {
    "collapsed": true
   },
   "outputs": [],
   "source": [
    "def make_map_plot(method, sample_id, gmaps_api_key, data):\n",
    "    probe_plot_data = data[(data['linkPVID'] != 0) & (data['sampleID'] == sample_id)]\n",
    "\n",
    "    # create map object centered at mean lat, long\n",
    "    gmap = gmplot.GoogleMapPlotter(np.mean(probe_plot_data['latitude']), np.mean(probe_plot_data['longitude']), 16)\n",
    "\n",
    "    # plot data with color-coded probes and links\n",
    "    unique_links = probe_plot_data['linkPVID'].unique()\n",
    "    colors = list(gmap.color_dict.keys())[0:-1]\n",
    "    color_index = 0\n",
    "\n",
    "    for i in unique_links:\n",
    "        # setup variables\n",
    "        current_color = colors[color_index]\n",
    "        probe_lats = probe_plot_data[probe_plot_data['linkPVID'] == i]['latitude']\n",
    "        probe_longs = probe_plot_data[probe_plot_data['linkPVID'] == i]['longitude']\n",
    "\n",
    "        link_lats = [x[0] for x in list(link_data[link_data['linkPVID'] == i]['shapeArray'])[0]]\n",
    "        link_longs = [x[1] for x in list(link_data[link_data['linkPVID'] == i]['shapeArray'])[0]]\n",
    "        \n",
    "        gmap.scatter(probe_lats, probe_longs, marker=False, color=current_color, s=5)\n",
    "        gmap.plot(link_lats, link_longs, color=current_color, edge_width=10, alpha=0.25)\n",
    "\n",
    "        color_index = (color_index + 1) % len(colors)\n",
    "        print('Link Segment: ' + str(i) + ', Color: ' + str(current_color))\n",
    "    \n",
    "    # print out file\n",
    "    if not os.path.exists('./graphs'):\n",
    "        os.makedirs('./graphs')\n",
    "    file_name = './graphs/' + method + '_' + str(sample_id) + '.html'\n",
    "    gmap.draw(file_name)\n",
    "\n",
    "    def insertapikey(fname, apikey):\n",
    "        \"\"\"put the google api key in a html file\"\"\"\n",
    "        def putkey(htmltxt, apikey, apistring=None):\n",
    "            \"\"\"put the apikey in the htmltxt and return soup\"\"\"\n",
    "            if not apistring:\n",
    "                apistring = 'https://maps.googleapis.com/maps/api/js?key=%s&callback=initMap'\n",
    "            soup = BeautifulSoup(htmltxt, 'html.parser')\n",
    "            body = soup.body\n",
    "            src = apistring % (apikey, )\n",
    "            tscript = soup.new_tag('script', src=src, async='defer')\n",
    "            body.insert(-1, tscript)\n",
    "            return soup\n",
    "        htmltxt = open(fname, 'r').read()\n",
    "        soup = putkey(htmltxt, apikey)\n",
    "        newtxt = soup.prettify()\n",
    "        open(fname, 'w').write(newtxt)\n",
    "\n",
    "    insertapikey(file_name, gmaps_api_key)\n",
    "    return IFrame(file_name, width=985, height=700)"
   ]
  },
  {
   "cell_type": "code",
   "execution_count": 17,
   "metadata": {},
   "outputs": [
    {
     "name": "stdout",
     "output_type": "stream",
     "text": [
      "Link Segment: 706849300.0, Color: b\n",
      "Link Segment: 62007637.0, Color: g\n",
      "Link Segment: 550095206.0, Color: r\n",
      "Link Segment: 567329767.0, Color: c\n",
      "Link Segment: 62007648.0, Color: m\n",
      "Link Segment: 62005171.0, Color: y\n",
      "Link Segment: 78670326.0, Color: k\n",
      "Link Segment: 78654476.0, Color: b\n",
      "Link Segment: 62006493.0, Color: g\n"
     ]
    },
    {
     "data": {
      "text/html": [
       "\n",
       "        <iframe\n",
       "            width=\"985\"\n",
       "            height=\"700\"\n",
       "            src=\"./graphs/simple-match_3496.html\"\n",
       "            frameborder=\"0\"\n",
       "            allowfullscreen\n",
       "        ></iframe>\n",
       "        "
      ],
      "text/plain": [
       "<IPython.lib.display.IFrame at 0x1414adba8>"
      ]
     },
     "execution_count": 17,
     "metadata": {},
     "output_type": "execute_result"
    }
   ],
   "source": [
    "# select data to plot\n",
    "sample_id = 3496\n",
    "make_map_plot('simple-match', sample_id, GOOGLE_MAPS_KEY, simple_match_data)"
   ]
  },
  {
   "cell_type": "code",
   "execution_count": 18,
   "metadata": {},
   "outputs": [
    {
     "name": "stdout",
     "output_type": "stream",
     "text": [
      "Link Segment: 79685530.0, Color: b\n",
      "Link Segment: 79685644.0, Color: g\n",
      "Link Segment: 540652112.0, Color: r\n",
      "Link Segment: 540652571.0, Color: c\n",
      "Link Segment: 540652103.0, Color: m\n",
      "Link Segment: 540652102.0, Color: y\n",
      "Link Segment: 79926342.0, Color: k\n",
      "Link Segment: 51796317.0, Color: b\n",
      "Link Segment: 586504920.0, Color: g\n",
      "Link Segment: 540652572.0, Color: r\n",
      "Link Segment: 51796322.0, Color: c\n",
      "Link Segment: 79687459.0, Color: m\n",
      "Link Segment: 540650979.0, Color: y\n",
      "Link Segment: 79687447.0, Color: k\n",
      "Link Segment: 79772029.0, Color: b\n"
     ]
    },
    {
     "data": {
      "text/html": [
       "\n",
       "        <iframe\n",
       "            width=\"985\"\n",
       "            height=\"700\"\n",
       "            src=\"./graphs/simple-match_5840302.html\"\n",
       "            frameborder=\"0\"\n",
       "            allowfullscreen\n",
       "        ></iframe>\n",
       "        "
      ],
      "text/plain": [
       "<IPython.lib.display.IFrame at 0x1414b6160>"
      ]
     },
     "execution_count": 18,
     "metadata": {},
     "output_type": "execute_result"
    }
   ],
   "source": [
    "# select data to plot\n",
    "sample_id = 5840302\n",
    "make_map_plot('simple-match', sample_id, GOOGLE_MAPS_KEY, simple_match_data)"
   ]
  },
  {
   "cell_type": "code",
   "execution_count": 16,
   "metadata": {},
   "outputs": [
    {
     "name": "stdout",
     "output_type": "stream",
     "text": [
      "Link Segment: 67942589.0, Color: b\n",
      "Link Segment: 67942583.0, Color: g\n",
      "Link Segment: 67942585.0, Color: r\n",
      "Link Segment: 586503844.0, Color: c\n",
      "Link Segment: 586484912.0, Color: m\n",
      "Link Segment: 554724701.0, Color: y\n",
      "Link Segment: 554721747.0, Color: k\n",
      "Link Segment: 554724814.0, Color: b\n",
      "Link Segment: 572216129.0, Color: g\n",
      "Link Segment: 572196708.0, Color: r\n",
      "Link Segment: 51901135.0, Color: c\n",
      "Link Segment: 51901184.0, Color: m\n",
      "Link Segment: 781679461.0, Color: y\n",
      "Link Segment: 781670235.0, Color: k\n",
      "Link Segment: 781670234.0, Color: b\n",
      "Link Segment: 781670233.0, Color: g\n",
      "Link Segment: 51901557.0, Color: r\n",
      "Link Segment: 51901569.0, Color: c\n",
      "Link Segment: 51931832.0, Color: m\n",
      "Link Segment: 572216467.0, Color: y\n",
      "Link Segment: 51931828.0, Color: k\n",
      "Link Segment: 586503845.0, Color: b\n",
      "Link Segment: 51900862.0, Color: g\n",
      "Link Segment: 51901444.0, Color: r\n",
      "Link Segment: 51901342.0, Color: c\n",
      "Link Segment: 572216117.0, Color: m\n",
      "Link Segment: 572216132.0, Color: y\n",
      "Link Segment: 586503847.0, Color: k\n",
      "Link Segment: 586503848.0, Color: b\n",
      "Link Segment: 51931823.0, Color: g\n",
      "Link Segment: 51901084.0, Color: r\n",
      "Link Segment: 51901199.0, Color: c\n",
      "Link Segment: 51901238.0, Color: m\n",
      "Link Segment: 572196820.0, Color: y\n",
      "Link Segment: 51901227.0, Color: k\n",
      "Link Segment: 79899138.0, Color: b\n",
      "Link Segment: 51901122.0, Color: g\n",
      "Link Segment: 51900172.0, Color: r\n",
      "Link Segment: 51900272.0, Color: c\n",
      "Link Segment: 51900364.0, Color: m\n",
      "Link Segment: 51900431.0, Color: y\n",
      "Link Segment: 67917137.0, Color: k\n",
      "Link Segment: 554724694.0, Color: b\n",
      "Link Segment: 51901108.0, Color: g\n"
     ]
    },
    {
     "data": {
      "text/html": [
       "\n",
       "        <iframe\n",
       "            width=\"985\"\n",
       "            height=\"700\"\n",
       "            src=\"./graphs/simple-match_778178.html\"\n",
       "            frameborder=\"0\"\n",
       "            allowfullscreen\n",
       "        ></iframe>\n",
       "        "
      ],
      "text/plain": [
       "<IPython.lib.display.IFrame at 0x1414b6828>"
      ]
     },
     "execution_count": 16,
     "metadata": {},
     "output_type": "execute_result"
    }
   ],
   "source": [
    "# select data to plot\n",
    "sample_id = 778178\n",
    "make_map_plot('simple-match', sample_id, GOOGLE_MAPS_KEY, simple_match_data)"
   ]
  },
  {
   "cell_type": "code",
   "execution_count": null,
   "metadata": {
    "collapsed": true
   },
   "outputs": [],
   "source": []
  }
 ],
 "metadata": {
  "anaconda-cloud": {},
  "kernelspec": {
   "display_name": "Python 3",
   "language": "python",
   "name": "python3"
  },
  "language_info": {
   "codemirror_mode": {
    "name": "ipython",
    "version": 3
   },
   "file_extension": ".py",
   "mimetype": "text/x-python",
   "name": "python",
   "nbconvert_exporter": "python",
   "pygments_lexer": "ipython3",
   "version": "3.5.3"
  }
 },
 "nbformat": 4,
 "nbformat_minor": 1
}
